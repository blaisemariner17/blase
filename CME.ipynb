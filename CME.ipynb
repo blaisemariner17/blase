{
 "cells": [
  {
   "cell_type": "code",
   "execution_count": 1,
   "metadata": {},
   "outputs": [],
   "source": [
    "import scipy.integrate as integrate\n",
    "import matplotlib.pyplot as plt\n",
    "import numpy as np\n",
    "import random"
   ]
  },
  {
   "cell_type": "markdown",
   "metadata": {},
   "source": [
    "## Stochastic simulation picks one path through the state. If this is run a number of times, that model might be more telling about the state of the system. \n",
    "\n",
    "ODEs assume high concentrations and availability of reactants and thus do not have the potential change that stochastic modeling has. \n",
    "\n",
    "Enter: **The chemical master equation (CME).** \n",
    "\n",
    "The CME models the probability that the system is in a state over time. This method of modeling essentially combines the ODE approach and the stochastic approach. We will use ODE integration to calculate the probabilities that singlular molecular models in stochatic modeling would end up settling in. \n",
    "\n",
    "Lets model a simple example. \n",
    "\n",
    "$$ { X + Y \\xrightarrow{k_1} XY } $$\n",
    "\n",
    "$$ {XY \\xrightarrow{k_2} X + Y}$$\n",
    "\n",
    "If you draw this out, there are three states that this reaction would be in. \n",
    "\n",
    "1.  #X = 3\n",
    "    #Y = 2\n",
    "    #XY = 0\n",
    "\n",
    "2.  #X = 2\n",
    "    #Y = 1\n",
    "    #XY = 1\n",
    "    \n",
    "3.  #X = 1\n",
    "    #Y = 0\n",
    "    #XY = 2\n",
    "    \n",
    "    \n",
    "To model this with a CME, we will define our propensities by multiplying their rate constant with the reactant(s). Also, for the sake of graphing a model that would be visually stimulating, we will set $k_1 = 5$ and $k_2 = 3$.\n",
    "\n",
    "__Note__: when the species counts get high, using this method gets tough, and stochastic modeling/ODE integration would povide better information. "
   ]
  },
  {
   "cell_type": "markdown",
   "metadata": {},
   "source": [
    "To calculate the probability that a state is in a certain state, all we need to do is **calculate the probability that the system is moving into that state, and subtract the probabilities that the system is leaving that state!** Sound familiar? (hint, see ODE video)\n",
    "\n",
    "The only thing is that now, since we are using probabilities, we must measure in that way, with nothing but a basis of propensity, which is calculated by multiplying the rate constant by the count of the molecules, and the probability that the state of the system was in that state before entering the current state ($P_i$). \n",
    "\n",
    "From above, the movement from...\n",
    "\n",
    "\n",
    "$$ \\large\n",
    "\\frac{dP_1}{dt} = k_{2}\\cdot 1\\cdot P_2 - k_1\\cdot 3\\cdot 2\\cdot P_1 $$\n",
    "\n",
    "$$ \\large\n",
    "\\frac{dP_2}{dt} = k_1\\cdot 3\\cdot 2\\cdot P_1 + k_{2}\\cdot 2\\cdot P_3 - k_1\\cdot 2\\cdot 1\\cdot P_2 - k_{2}\\cdot 1\\cdot P_2 $$\n",
    "\n",
    "$$ \\large\n",
    "\\frac{dP_3}{dt} = k_1\\cdot 2\\cdot 1\\cdot P_2 - k_{2}\\cdot 2\\cdot P_3 $$\n",
    "   "
   ]
  },
  {
   "cell_type": "code",
   "execution_count": 2,
   "metadata": {},
   "outputs": [],
   "source": [
    "def cme_funct(y, t, k1, k2): #km1 is the k minus 1 reversible rate of rxn\n",
    "    return np.array([k2*y[1] - k1*6*y[0],  #this funciton will be used to pass into our integration of ODE\n",
    "                     k1*6*y[0] + k2*2*y[2] - k1*2*y[1] - k2*y[1], \n",
    "                     k1*2*y[1] - k2*2*y[2]])"
   ]
  },
  {
   "cell_type": "code",
   "execution_count": 3,
   "metadata": {},
   "outputs": [],
   "source": [
    "y0 = np.array([1,0,0]) #bcs we know the initial state of the function, thus the p that it is in that state is 1\n",
    "k1 = 5\n",
    "k2 = 3\n",
    "ts = np.linspace(0, 2, 501)\n",
    "res = integrate.odeint(cme_funct, y0, ts, args=(k1,k2))"
   ]
  },
  {
   "cell_type": "code",
   "execution_count": 4,
   "metadata": {},
   "outputs": [],
   "source": [
    "p0 = res[:,0]\n",
    "p1 = res[:,1]  \n",
    "p2 = res[:,2]  #three outputs for the three possible states of the reaction\n",
    "sumprobs = p0+p1+p2 # Sanity check; should sum to one at all times!"
   ]
  },
  {
   "cell_type": "code",
   "execution_count": 5,
   "metadata": {},
   "outputs": [
    {
     "data": {
      "image/png": "[encoded data removed]",
      "text/plain": [
       "<Figure size 576x432 with 1 Axes>"
      ]
     },
     "metadata": {
      "needs_background": "light"
     },
     "output_type": "display_data"
    }
   ],
   "source": [
    "plt.figure(figsize=(8,6))\n",
    "plt.plot(ts, p0, label='#X=3, #Y=2, #XY=0')\n",
    "plt.plot(ts, p1, label='#X=2, #Y=1, #XY=1')\n",
    "plt.plot(ts, p2, label='#X=1, #Y=0, #XY=2')\n",
    "plt.plot(ts,sumprobs, label='Sum of probabilities')\n",
    "plt.axhline(0, linestyle='dotted', color='grey')\n",
    "plt.xlabel('Time')\n",
    "plt.ylabel('Probability')\n",
    "plt.legend()\n",
    "plt.show()"
   ]
  },
  {
   "cell_type": "code",
   "execution_count": null,
   "metadata": {},
   "outputs": [],
   "source": []
  }
 ],
 "metadata": {
  "kernelspec": {
   "display_name": "Python 3",
   "language": "python",
   "name": "python3"
  },
  "language_info": {
   "codemirror_mode": {
    "name": "ipython",
    "version": 3
   },
   "file_extension": ".py",
   "mimetype": "text/x-python",
   "name": "python",
   "nbconvert_exporter": "python",
   "pygments_lexer": "ipython3",
   "version": "3.7.4"
  }
 },
 "nbformat": 4,
 "nbformat_minor": 2
}
